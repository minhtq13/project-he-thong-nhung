{
 "cells": [
  {
   "cell_type": "code",
   "execution_count": 1,
   "metadata": {},
   "outputs": [
    {
     "name": "stderr",
     "output_type": "stream",
     "text": [
      "C:\\Users\\Admin\\AppData\\Local\\Temp\\ipykernel_4400\\1299393893.py:16: SettingWithCopyWarning: \n",
      "A value is trying to be set on a copy of a slice from a DataFrame.\n",
      "Try using .loc[row_indexer,col_indexer] = value instead\n",
      "\n",
      "See the caveats in the documentation: https://pandas.pydata.org/pandas-docs/stable/user_guide/indexing.html#returning-a-view-versus-a-copy\n",
      "  X['Battery Type'] = label_encoder.fit_transform(X['Battery Type'])\n",
      "c:\\Users\\Admin\\miniconda3\\lib\\site-packages\\sklearn\\preprocessing\\_encoders.py:868: FutureWarning: `sparse` was renamed to `sparse_output` in version 1.2 and will be removed in 1.4. `sparse_output` is ignored unless you leave `sparse` to its default value.\n",
      "  warnings.warn(\n"
     ]
    }
   ],
   "source": [
    "import tkinter as tk\n",
    "import pandas as pd\n",
    "import numpy as np\n",
    "from sklearn.preprocessing import LabelEncoder, OneHotEncoder\n",
    "from sklearn.linear_model import LinearRegression\n",
    "\n",
    "# Load the dataset\n",
    "df = pd.read_excel(\"battery.xlsx\")\n",
    "\n",
    "# Extract the features and target variable\n",
    "X = df[['Voltage', 'Remaining Capacity', 'Charge Count', 'Battery Type']]\n",
    "y = df['Remaining Lifespan']\n",
    "\n",
    "# Perform label encoding for the categorical variable 'Battery Type'\n",
    "label_encoder = LabelEncoder()\n",
    "X['Battery Type'] = label_encoder.fit_transform(X['Battery Type'])\n",
    "\n",
    "# Perform one-hot encoding for the categorical variable 'Battery Type'\n",
    "onehot_encoder = OneHotEncoder(sparse=False)\n",
    "X_encoded = onehot_encoder.fit_transform(X[['Battery Type']])\n",
    "feature_names = ['Battery Type_' + str(cls) for cls in label_encoder.classes_]\n",
    "X_encoded = pd.DataFrame(X_encoded, columns=feature_names)\n",
    "X = pd.concat([X.drop('Battery Type', axis=1), X_encoded], axis=1)\n",
    "\n",
    "# Train the linear regression model\n",
    "model = LinearRegression()\n",
    "model.fit(X, y)\n",
    " \n",
    "# Create the tkinter window\n",
    "window = tk.Tk()\n",
    "window.title(\"Battery Lifespan Prediction\")\n",
    "\n",
    "window.geometry(\"400x300\")\n",
    "\n",
    "# Function to handle the button click event\n",
    "def predict_lifespan():\n",
    "    # Get the input values\n",
    "    voltage = float(voltage_entry.get())\n",
    "    remaining_capacity = float(remaining_capacity_entry.get())\n",
    "    charge_count = float(charge_count_entry.get())\n",
    "    battery_type = battery_type_entry.get()\n",
    "\n",
    "    # Perform label encoding and one-hot encoding for the input values\n",
    "    battery_type_encoded = label_encoder.transform([battery_type])\n",
    "    battery_type_encoded = onehot_encoder.transform([battery_type_encoded])\n",
    "    input_data = np.array([[voltage, remaining_capacity, charge_count]])\n",
    "    input_data_encoded = np.concatenate((input_data, battery_type_encoded), axis=1)\n",
    "\n",
    "    # Make the lifespan prediction\n",
    "    predicted_lifespan = model.predict(input_data_encoded)\n",
    "\n",
    "    # Display the predicted lifespan\n",
    "    result_label.config(text=f\"Thời gian còn lại: {predicted_lifespan[0]:.2f} tuần\")\n",
    "\n",
    "# Create the input fields and labels\n",
    "voltage_label = tk.Label(window, text=\"Voltage:\")\n",
    "voltage_label.pack()\n",
    "voltage_entry = tk.Entry(window)\n",
    "voltage_entry.pack()\n",
    "\n",
    "remaining_capacity_label = tk.Label(window, text=\"Remaining Capacity:\")\n",
    "remaining_capacity_label.pack()\n",
    "remaining_capacity_entry = tk.Entry(window)\n",
    "remaining_capacity_entry.pack()\n",
    "\n",
    "charge_count_label = tk.Label(window, text=\"Charge Count:\")\n",
    "charge_count_label.pack()\n",
    "charge_count_entry = tk.Entry(window)\n",
    "charge_count_entry.pack()\n",
    "\n",
    "battery_type_label = tk.Label(window, text=\"Battery Type:\")\n",
    "battery_type_label.pack()\n",
    "battery_type_entry = tk.Entry(window)\n",
    "battery_type_entry.pack()\n",
    "\n",
    "# Create the prediction button\n",
    "predict_button = tk.Button(window, text=\"Predict Lifespan\", command=predict_lifespan)\n",
    "predict_button.pack()\n",
    "\n",
    "# Create the label to display the predicted lifespan\n",
    "result_label = tk.Label(window, text=\"Thời gian còn lại: \")\n",
    "result_label.pack()\n",
    "\n",
    "# Run the tkinter event loop\n",
    "window.mainloop()\n"
   ]
  },
  {
   "cell_type": "code",
   "execution_count": null,
   "metadata": {},
   "outputs": [
    {
     "name": "stdout",
     "output_type": "stream",
     "text": [
      "Requirement already satisfied: openpyxl in c:\\users\\admin\\miniconda3\\lib\\site-packages (3.1.2)\n",
      "Requirement already satisfied: et-xmlfile in c:\\users\\admin\\miniconda3\\lib\\site-packages (from openpyxl) (1.1.0)\n"
     ]
    }
   ],
   "source": [
    "!pip install openpyxl"
   ]
  }
 ],
 "metadata": {
  "kernelspec": {
   "display_name": "base",
   "language": "python",
   "name": "python3"
  },
  "language_info": {
   "codemirror_mode": {
    "name": "ipython",
    "version": 3
   },
   "file_extension": ".py",
   "mimetype": "text/x-python",
   "name": "python",
   "nbconvert_exporter": "python",
   "pygments_lexer": "ipython3",
   "version": "3.10.10"
  },
  "orig_nbformat": 4
 },
 "nbformat": 4,
 "nbformat_minor": 2
}
